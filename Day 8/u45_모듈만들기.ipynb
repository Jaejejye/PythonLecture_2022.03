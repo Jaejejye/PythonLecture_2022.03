{
 "cells": [
  {
   "cell_type": "markdown",
   "metadata": {},
   "source": [
    "# Unit 45. 모듈과 패키지 만들기\n",
    "### 45.1 모듈 만들기"
   ]
  },
  {
   "cell_type": "code",
   "execution_count": 1,
   "metadata": {},
   "outputs": [
    {
     "name": "stdout",
     "output_type": "stream",
     "text": [
      "2\n",
      "1024\n"
     ]
    }
   ],
   "source": [
    "import u45_square2 as sq\n",
    "print(sq.base)\n",
    "print(sq.square(10))"
   ]
  },
  {
   "cell_type": "code",
   "execution_count": 2,
   "metadata": {},
   "outputs": [
    {
     "name": "stderr",
     "output_type": "stream",
     "text": [
      "'ls'��(��) ���� �Ǵ� �ܺ� ����, ������ �� �ִ� ���α׷�, �Ǵ�\n",
      "��ġ ������ �ƴմϴ�.\n"
     ]
    }
   ],
   "source": [
    "!ls -l"
   ]
  },
  {
   "cell_type": "code",
   "execution_count": 3,
   "metadata": {},
   "outputs": [
    {
     "name": "stderr",
     "output_type": "stream",
     "text": [
      "'ls'��(��) ���� �Ǵ� �ܺ� ����, ������ �� �ִ� ���α׷�, �Ǵ�\n",
      "��ġ ������ �ƴմϴ�.\n"
     ]
    }
   ],
   "source": [
    "!ls -l __pycache__/"
   ]
  },
  {
   "cell_type": "code",
   "execution_count": 4,
   "metadata": {},
   "outputs": [
    {
     "name": "stderr",
     "output_type": "stream",
     "text": [
      "'rm'��(��) ���� �Ǵ� �ܺ� ����, ������ �� �ִ� ���α׷�, �Ǵ�\n",
      "��ġ ������ �ƴմϴ�.\n"
     ]
    }
   ],
   "source": [
    "!rm -rf __pycache__"
   ]
  },
  {
   "cell_type": "code",
   "execution_count": 5,
   "metadata": {},
   "outputs": [
    {
     "data": {
      "text/plain": [
       "1.189207115002721"
      ]
     },
     "execution_count": 5,
     "metadata": {},
     "output_type": "execute_result"
    }
   ],
   "source": [
    "sq.sqrt(4)"
   ]
  },
  {
   "cell_type": "markdown",
   "metadata": {},
   "source": [
    "- 클래스"
   ]
  },
  {
   "cell_type": "code",
   "execution_count": 7,
   "metadata": {},
   "outputs": [
    {
     "name": "stdout",
     "output_type": "stream",
     "text": [
      "안녕하세요? 저는 제임스입니다.\n"
     ]
    }
   ],
   "source": [
    "import u45_person\n",
    "\n",
    "james = u45_person.Person('제임스', 25, '서울시 서초구 반포동')\n",
    "james.greeting()"
   ]
  },
  {
   "cell_type": "markdown",
   "metadata": {},
   "source": [
    "### 45.2 모듈과 시작점\n",
    "- Account"
   ]
  },
  {
   "cell_type": "code",
   "execution_count": 8,
   "metadata": {},
   "outputs": [],
   "source": [
    "import account_예외처리 as acc"
   ]
  },
  {
   "cell_type": "code",
   "execution_count": 9,
   "metadata": {},
   "outputs": [
    {
     "name": "stdout",
     "output_type": "stream",
     "text": [
      "\n",
      "\n",
      "계좌번호: 123456, 소유주: 제임스, 잔액:   500,000\n",
      "계좌번호: 234567, 소유주: 마리아, 잔액:   120,000\n",
      "\n"
     ]
    }
   ],
   "source": [
    "while True:\n",
    "    try:\n",
    "        menu = int(input('1:계좌생성, 2:계좌목록, 3:입금, 4:출금, 5:종료> '))\n",
    "    except:\n",
    "        print('잘못된 명령어입니다.\\n')\n",
    "        continue\n",
    "    \n",
    "    if menu == 5:\n",
    "        break\n",
    "    if menu == 1:\n",
    "        acc.create_account()\n",
    "    elif menu == 2:\n",
    "        for account in acc.acc_list:\n",
    "            print(account)\n",
    "    elif menu == 3:\n",
    "        acc.deposit_account()\n",
    "    elif menu == 4:\n",
    "        acc.withdraw_account()\n",
    "    else:\n",
    "        print('잘못된 명령어입니다.')\n",
    "\n",
    "    print()"
   ]
  },
  {
   "cell_type": "markdown",
   "metadata": {},
   "source": [
    "### 45.3 패키지 만들기"
   ]
  },
  {
   "cell_type": "code",
   "execution_count": 10,
   "metadata": {},
   "outputs": [
    {
     "name": "stderr",
     "output_type": "stream",
     "text": [
      "���� ���͸� �Ǵ� ���� calcpkg��(��) �̹� �ֽ��ϴ�.\n"
     ]
    }
   ],
   "source": [
    "!mkdir calcpkg"
   ]
  },
  {
   "cell_type": "code",
   "execution_count": 11,
   "metadata": {},
   "outputs": [
    {
     "name": "stderr",
     "output_type": "stream",
     "text": [
      "'mv'��(��) ���� �Ǵ� �ܺ� ����, ������ �� �ִ� ���α׷�, �Ǵ�\n",
      "��ġ ������ �ƴմϴ�.\n"
     ]
    }
   ],
   "source": [
    "!mv __init__.py geometry.py operation.py calcpkg"
   ]
  },
  {
   "cell_type": "code",
   "execution_count": null,
   "metadata": {},
   "outputs": [],
   "source": [
    "import calcpkg.operation\n",
    "import calcpkg.geometry\n",
    "\n",
    "print(calcpkg.operation.add(10,20))\n",
    "print(calcpkg.operation.mul(10,20))\n",
    "\n",
    "print(calcpkg.geometry.triangle_area(30,40))\n",
    "print(calcpkg.geometry.rectangle_area(30,40))"
   ]
  },
  {
   "cell_type": "markdown",
   "metadata": {},
   "source": [
    "### 45.4 패키지에서 from import 사용"
   ]
  },
  {
   "cell_type": "code",
   "execution_count": null,
   "metadata": {},
   "outputs": [],
   "source": [
    "from calcpkg.operation import add, mul\n",
    "from calcpkg.geometry import triangle_area, rectangle_area\n",
    "\n",
    "print(add(10,20))\n",
    "print(mul(10,20))\n",
    "\n",
    "print(triangle_area(30,40))\n",
    "print(rectangle_area(30,40))"
   ]
  }
 ],
 "metadata": {
  "interpreter": {
   "hash": "41bfb5b538a8ccdcb3e2322710c9405c59874957bcc781cd1f201bc611604366"
  },
  "kernelspec": {
   "display_name": "Python 3.9.7 ('base')",
   "language": "python",
   "name": "python3"
  },
  "language_info": {
   "codemirror_mode": {
    "name": "ipython",
    "version": 3
   },
   "file_extension": ".py",
   "mimetype": "text/x-python",
   "name": "python",
   "nbconvert_exporter": "python",
   "pygments_lexer": "ipython3",
   "version": "3.9.7"
  },
  "orig_nbformat": 4
 },
 "nbformat": 4,
 "nbformat_minor": 2
}
