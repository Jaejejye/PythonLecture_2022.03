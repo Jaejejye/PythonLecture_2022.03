{
 "cells": [
  {
   "cell_type": "markdown",
   "metadata": {},
   "source": [
    "# Unit 36. 상속(Inheritance)\n",
    "### 36.1 기본 상속"
   ]
  },
  {
   "cell_type": "code",
   "execution_count": 1,
   "metadata": {},
   "outputs": [],
   "source": [
    "# 기반(base) 클래스\n",
    "class Person:\n",
    "    def greeting(self):\n",
    "        print('안녕하세요?')\n",
    "\n",
    "# 파생(derived) 클래스\n",
    "class Student(Person):\n",
    "    def study(self):\n",
    "        print('공부합니다.')"
   ]
  },
  {
   "cell_type": "code",
   "execution_count": 2,
   "metadata": {},
   "outputs": [
    {
     "name": "stdout",
     "output_type": "stream",
     "text": [
      "공부합니다.\n"
     ]
    }
   ],
   "source": [
    "james = Student()\n",
    "james.study()"
   ]
  },
  {
   "cell_type": "code",
   "execution_count": 3,
   "metadata": {},
   "outputs": [
    {
     "name": "stdout",
     "output_type": "stream",
     "text": [
      "안녕하세요?\n"
     ]
    }
   ],
   "source": [
    "james.greeting()    # 기반 클래스의 메소드 호출"
   ]
  },
  {
   "cell_type": "markdown",
   "metadata": {},
   "source": [
    "### 36.2 상속관계 및 포함관계\n",
    "- 상속 관계   \n",
    "    Student와 Person은 상속관계   \n",
    "    Student is a Person.   \n",
    "    is-a 관계   \n",
    "       \n",
    "- 포함 관계   \n",
    "    사람 목록은 사람을 가지고 있다.   \n",
    "    PersonList has a Person.   \n",
    "    has-a 관계   "
   ]
  },
  {
   "cell_type": "code",
   "execution_count": 4,
   "metadata": {},
   "outputs": [],
   "source": [
    "class PersonList:\n",
    "    def __init__(self):\n",
    "        self.person_list = []\n",
    "\n",
    "    def append_person(self, person):\n",
    "        self.person_list.append(person)"
   ]
  },
  {
   "cell_type": "code",
   "execution_count": 5,
   "metadata": {},
   "outputs": [],
   "source": [
    "my_friend = PersonList()\n",
    "james = Person()\n",
    "maria = Person()\n",
    "my_friend.append_person(james)\n",
    "my_friend.append_person(maria)"
   ]
  },
  {
   "cell_type": "code",
   "execution_count": 6,
   "metadata": {},
   "outputs": [
    {
     "data": {
      "text/plain": [
       "[<__main__.Person at 0x240f407dac0>, <__main__.Person at 0x240f407d940>]"
      ]
     },
     "execution_count": 6,
     "metadata": {},
     "output_type": "execute_result"
    }
   ],
   "source": [
    "my_friend.person_list"
   ]
  },
  {
   "cell_type": "markdown",
   "metadata": {},
   "source": [
    "### 36.3 기반 클래스의 속성 사용하기"
   ]
  },
  {
   "cell_type": "code",
   "execution_count": 7,
   "metadata": {},
   "outputs": [],
   "source": [
    "class Person:\n",
    "    def __init__(self):\n",
    "        print('Person __init__')\n",
    "        self.hello = '안녕하세요.'\n",
    " \n",
    "class Student(Person):\n",
    "    def __init__(self):\n",
    "        print('Student __init__')\n",
    "        self.school = '파이썬 코딩 도장'"
   ]
  },
  {
   "cell_type": "code",
   "execution_count": 8,
   "metadata": {},
   "outputs": [
    {
     "name": "stdout",
     "output_type": "stream",
     "text": [
      "Student __init__\n"
     ]
    },
    {
     "data": {
      "text/plain": [
       "'파이썬 코딩 도장'"
      ]
     },
     "execution_count": 8,
     "metadata": {},
     "output_type": "execute_result"
    }
   ],
   "source": [
    "james = Student()\n",
    "james.school"
   ]
  },
  {
   "cell_type": "code",
   "execution_count": 9,
   "metadata": {},
   "outputs": [
    {
     "ename": "AttributeError",
     "evalue": "'Student' object has no attribute 'hello'",
     "output_type": "error",
     "traceback": [
      "\u001b[1;31m---------------------------------------------------------------------------\u001b[0m",
      "\u001b[1;31mAttributeError\u001b[0m                            Traceback (most recent call last)",
      "\u001b[1;32mC:\\Users\\HAVEDI~1\\AppData\\Local\\Temp/ipykernel_20724/765591059.py\u001b[0m in \u001b[0;36m<module>\u001b[1;34m\u001b[0m\n\u001b[1;32m----> 1\u001b[1;33m \u001b[0mjames\u001b[0m\u001b[1;33m.\u001b[0m\u001b[0mhello\u001b[0m\u001b[1;33m\u001b[0m\u001b[1;33m\u001b[0m\u001b[0m\n\u001b[0m",
      "\u001b[1;31mAttributeError\u001b[0m: 'Student' object has no attribute 'hello'"
     ]
    }
   ],
   "source": [
    "james.hello"
   ]
  },
  {
   "cell_type": "code",
   "execution_count": 10,
   "metadata": {},
   "outputs": [],
   "source": [
    "class Person:\n",
    "    def __init__(self):\n",
    "        print('Person __init__')\n",
    "        self.hello = '안녕하세요.'\n",
    "\n",
    "class Soldier(Person):\n",
    "    def shoot(self):\n",
    "        print('총을 쏩니다.')"
   ]
  },
  {
   "cell_type": "code",
   "execution_count": 11,
   "metadata": {},
   "outputs": [
    {
     "name": "stdout",
     "output_type": "stream",
     "text": [
      "Person __init__\n"
     ]
    },
    {
     "data": {
      "text/plain": [
       "'안녕하세요.'"
      ]
     },
     "execution_count": 11,
     "metadata": {},
     "output_type": "execute_result"
    }
   ],
   "source": [
    "peter = Soldier()\n",
    "peter.hello"
   ]
  },
  {
   "cell_type": "markdown",
   "metadata": {},
   "source": [
    "- 부모/자식이 모두 __init__ 메소드를 가지고 있을 경우"
   ]
  },
  {
   "cell_type": "code",
   "execution_count": 12,
   "metadata": {},
   "outputs": [],
   "source": [
    "class Person:\n",
    "    def __init__(self):\n",
    "        print('Person __init__')\n",
    "        self.hello = '안녕하세요.'\n",
    " \n",
    "class Student(Person):\n",
    "    def __init__(self):\n",
    "        print('Student __init__')\n",
    "        super().__init__()          # 기반 클래스의 __init__ 메소드 호출\n",
    "        self.school = '파이썬 코딩 도장'"
   ]
  },
  {
   "cell_type": "code",
   "execution_count": 13,
   "metadata": {},
   "outputs": [
    {
     "name": "stdout",
     "output_type": "stream",
     "text": [
      "Student __init__\n",
      "Person __init__\n"
     ]
    },
    {
     "data": {
      "text/plain": [
       "'안녕하세요.'"
      ]
     },
     "execution_count": 13,
     "metadata": {},
     "output_type": "execute_result"
    }
   ],
   "source": [
    "maria = Student()\n",
    "maria.hello"
   ]
  },
  {
   "cell_type": "markdown",
   "metadata": {},
   "source": [
    "### 36.4 Method overriding"
   ]
  },
  {
   "cell_type": "code",
   "execution_count": 14,
   "metadata": {},
   "outputs": [],
   "source": [
    "class Person:\n",
    "    def greeting(self):\n",
    "        print('안녕하세요.')\n",
    " \n",
    "class Student(Person):\n",
    "    def greeting(self):\n",
    "        print('안녕하세요. 저는 파이썬 코딩 도장 학생입니다.')"
   ]
  },
  {
   "cell_type": "code",
   "execution_count": 15,
   "metadata": {},
   "outputs": [
    {
     "name": "stdout",
     "output_type": "stream",
     "text": [
      "안녕하세요. 저는 파이썬 코딩 도장 학생입니다.\n"
     ]
    }
   ],
   "source": [
    "james = Student()\n",
    "james.greeting()"
   ]
  },
  {
   "cell_type": "markdown",
   "metadata": {},
   "source": [
    "### 36.5 다중상속\n",
    "- 별로 좋은 방법이 아니므로 사용하지 말 것\n",
    "### 36.6 추상 클래스 - 인터페이스"
   ]
  },
  {
   "cell_type": "code",
   "execution_count": 44,
   "metadata": {},
   "outputs": [],
   "source": [
    "from abc import *\n",
    "\n",
    "class StudentBase(metaclass=ABCMeta):\n",
    "    @abstractmethod\n",
    "    def study(self, a):\n",
    "        pass\n",
    "\n",
    "    @abstractmethod\n",
    "    def go_to_school(self, b):\n",
    "        pass"
   ]
  },
  {
   "cell_type": "code",
   "execution_count": 17,
   "metadata": {},
   "outputs": [],
   "source": [
    "class Student(StudentBase):\n",
    "    def study(self):\n",
    "        print('공부하기')"
   ]
  },
  {
   "cell_type": "code",
   "execution_count": 18,
   "metadata": {},
   "outputs": [
    {
     "ename": "TypeError",
     "evalue": "Can't instantiate abstract class Student with abstract method go_to_school",
     "output_type": "error",
     "traceback": [
      "\u001b[1;31m---------------------------------------------------------------------------\u001b[0m",
      "\u001b[1;31mTypeError\u001b[0m                                 Traceback (most recent call last)",
      "\u001b[1;32mC:\\Users\\HAVEDI~1\\AppData\\Local\\Temp/ipykernel_20724/3023914916.py\u001b[0m in \u001b[0;36m<module>\u001b[1;34m\u001b[0m\n\u001b[1;32m----> 1\u001b[1;33m \u001b[0mjames\u001b[0m \u001b[1;33m=\u001b[0m \u001b[0mStudent\u001b[0m\u001b[1;33m(\u001b[0m\u001b[1;33m)\u001b[0m\u001b[1;33m\u001b[0m\u001b[1;33m\u001b[0m\u001b[0m\n\u001b[0m",
      "\u001b[1;31mTypeError\u001b[0m: Can't instantiate abstract class Student with abstract method go_to_school"
     ]
    }
   ],
   "source": [
    "james = Student()"
   ]
  },
  {
   "cell_type": "code",
   "execution_count": 45,
   "metadata": {},
   "outputs": [],
   "source": [
    "class Student(StudentBase):\n",
    "    def study(self):\n",
    "        print('공부하기')\n",
    "    def go_to_school(self):\n",
    "        print('학교가기')"
   ]
  },
  {
   "cell_type": "code",
   "execution_count": 46,
   "metadata": {},
   "outputs": [
    {
     "name": "stdout",
     "output_type": "stream",
     "text": [
      "공부하기\n",
      "학교가기\n"
     ]
    }
   ],
   "source": [
    "maria = Student()\n",
    "maria.study()\n",
    "maria.go_to_school()"
   ]
  },
  {
   "cell_type": "code",
   "execution_count": null,
   "metadata": {},
   "outputs": [],
   "source": [
    "# --> Python missing 1 required positional argument: 오류...계속남..\n",
    "# TypeError: study() missing 1 required positional argument: 'a'\n",
    "## ====> maria로 받기 전 class Student(StudentBase) 내의 함수 study와 go_to_school\n",
    "## =====> 해당 함수들 self 옆 인자들인 a, b를 지우고 실행하니 정상 실행 ! a, b로 받을 인자가 써져 있지 않아 아마 오류를 내뱉은 듯 . . . "
   ]
  }
 ],
 "metadata": {
  "interpreter": {
   "hash": "41bfb5b538a8ccdcb3e2322710c9405c59874957bcc781cd1f201bc611604366"
  },
  "kernelspec": {
   "display_name": "Python 3.9.7 ('base')",
   "language": "python",
   "name": "python3"
  },
  "language_info": {
   "codemirror_mode": {
    "name": "ipython",
    "version": 3
   },
   "file_extension": ".py",
   "mimetype": "text/x-python",
   "name": "python",
   "nbconvert_exporter": "python",
   "pygments_lexer": "ipython3",
   "version": "3.9.7"
  },
  "orig_nbformat": 4
 },
 "nbformat": 4,
 "nbformat_minor": 2
}
