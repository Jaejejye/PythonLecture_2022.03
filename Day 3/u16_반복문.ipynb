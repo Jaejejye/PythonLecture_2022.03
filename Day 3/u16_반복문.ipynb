{
 "cells": [
  {
   "cell_type": "markdown",
   "metadata": {},
   "source": [
    "# Unit 16. 반복문"
   ]
  },
  {
   "cell_type": "markdown",
   "metadata": {},
   "source": [
    "### 16.1 for, range"
   ]
  },
  {
   "cell_type": "code",
   "execution_count": 1,
   "metadata": {},
   "outputs": [
    {
     "name": "stdout",
     "output_type": "stream",
     "text": [
      "Hello World!\n",
      "Hello World!\n",
      "Hello World!\n"
     ]
    }
   ],
   "source": [
    "for i in range(3):\n",
    "    print('Hello World!')"
   ]
  },
  {
   "cell_type": "code",
   "execution_count": 2,
   "metadata": {},
   "outputs": [
    {
     "data": {
      "text/plain": [
       "'\\nfor (i=0; i<10; i++) {\\n    printf(\"%s %d\", \"Hello World\", i);\\n}\\n'"
      ]
     },
     "execution_count": 2,
     "metadata": {},
     "output_type": "execute_result"
    }
   ],
   "source": [
    "# java나 javascript의 경우\n",
    "\"\"\"\n",
    "for (i=0; i<10; i++) {\n",
    "    printf(\"%s %d\", \"Hello World\", i);\n",
    "}\n",
    "\"\"\"\n",
    "\n",
    "\"\"\"\n",
    "fruits  = ['apple', 'banana', 'cherry]\n",
    "for (i=0; i<3; i++) {\n",
    "    printf(\"%s\", fruits[i])\n",
    "}\n",
    "\"\"\"\n",
    "\n",
    "#python의 경우\n",
    "\"\"\"\n",
    "for i in range(10):\n",
    "    print(\"Hello World\", i)\n",
    "\"\"\"\n",
    "\n",
    "\"\"\"\n",
    "for fruit in fruits:\n",
    "    print(fruit)\n",
    "\"\"\""
   ]
  },
  {
   "cell_type": "code",
   "execution_count": 4,
   "metadata": {},
   "outputs": [
    {
     "name": "stdout",
     "output_type": "stream",
     "text": [
      "안녕하세요. 0\n",
      "안녕하세요. 1\n",
      "안녕하세요. 2\n"
     ]
    }
   ],
   "source": [
    "for i in range(3):\n",
    "    print('안녕하세요.', i)"
   ]
  },
  {
   "cell_type": "markdown",
   "metadata": {},
   "source": [
    "### 16.2 for, range 응용"
   ]
  },
  {
   "cell_type": "code",
   "execution_count": 5,
   "metadata": {},
   "outputs": [
    {
     "name": "stdout",
     "output_type": "stream",
     "text": [
      "10 9 8 7 6 5 4 3 2 1 "
     ]
    }
   ],
   "source": [
    "for i in range(10, 0, -1):\n",
    "    print(i, end=' ')"
   ]
  },
  {
   "cell_type": "code",
   "execution_count": 8,
   "metadata": {},
   "outputs": [
    {
     "name": "stdout",
     "output_type": "stream",
     "text": [
      "Hello\n",
      "Hello\n",
      "Hello\n"
     ]
    }
   ],
   "source": [
    "# Loop 안에서 index 값이 필요하지 않으면 i 대신 _ 를 쓸 수 있음 !\n",
    "\n",
    "for _ in range(3):\n",
    "    print(\"Hello\")"
   ]
  },
  {
   "cell_type": "code",
   "execution_count": 11,
   "metadata": {},
   "outputs": [
    {
     "name": "stdout",
     "output_type": "stream",
     "text": [
      "0 1 2 3 4 5 6 7 8 9 "
     ]
    }
   ],
   "source": [
    "# for-loop 에서는 loop 안에서 index 값을 변경시키지 말 것 !\n",
    "for i in range(10):\n",
    "    print(i, end=' ')\n",
    "    i += 5      # 금기 사항"
   ]
  },
  {
   "cell_type": "code",
   "execution_count": 12,
   "metadata": {},
   "outputs": [],
   "source": [
    "# for , while , until\n",
    "## -> python 에서는 until을 제공하지 X"
   ]
  },
  {
   "cell_type": "code",
   "execution_count": 13,
   "metadata": {},
   "outputs": [],
   "source": [
    "count = int(input())\n",
    "for i in range(count):      # count가 0이면 반복하지 않음\n",
    "    print(i, end=' ')"
   ]
  },
  {
   "cell_type": "markdown",
   "metadata": {},
   "source": [
    "### 16.3 시퀀스 객체로 반복"
   ]
  },
  {
   "cell_type": "code",
   "execution_count": 14,
   "metadata": {},
   "outputs": [
    {
     "name": "stdout",
     "output_type": "stream",
     "text": [
      "10 20 30 40 50 "
     ]
    }
   ],
   "source": [
    "a = [10, 20, 30, 40, 50]\n",
    "for i in a:\n",
    "    print(i, end=' ')"
   ]
  },
  {
   "cell_type": "code",
   "execution_count": 16,
   "metadata": {},
   "outputs": [
    {
     "name": "stdout",
     "output_type": "stream",
     "text": [
      "사과\n",
      "배\n",
      "감\n",
      "귤\n"
     ]
    }
   ],
   "source": [
    "fruits = ('사과', '배', '감', '귤')\n",
    "for fruit in fruits:\n",
    "    print(fruit)"
   ]
  },
  {
   "cell_type": "code",
   "execution_count": 19,
   "metadata": {},
   "outputs": [
    {
     "name": "stdout",
     "output_type": "stream",
     "text": [
      "n o h t y p "
     ]
    }
   ],
   "source": [
    "for letter in reversed('python'):\n",
    "    print(letter, end=' ')"
   ]
  },
  {
   "cell_type": "code",
   "execution_count": 24,
   "metadata": {},
   "outputs": [
    {
     "name": "stdout",
     "output_type": "stream",
     "text": [
      "n o h t y p "
     ]
    }
   ],
   "source": [
    "for letter in 'python'[::-1]:\n",
    "    print(letter, end=' ')"
   ]
  },
  {
   "cell_type": "markdown",
   "metadata": {},
   "source": [
    "- 반복문 응용"
   ]
  },
  {
   "cell_type": "code",
   "execution_count": 20,
   "metadata": {},
   "outputs": [
    {
     "name": "stdout",
     "output_type": "stream",
     "text": [
      "5050\n"
     ]
    }
   ],
   "source": [
    "# 1에서 100까지의 합\n",
    "sum100 = 0\n",
    "for i in range(1, 101):\n",
    "    sum100 += i\n",
    "print(sum100)"
   ]
  },
  {
   "cell_type": "code",
   "execution_count": 23,
   "metadata": {},
   "outputs": [
    {
     "name": "stdout",
     "output_type": "stream",
     "text": [
      "[1.0, 1.4142, 1.7321, 2.0, 2.2361, 2.4495, 2.6458, 2.8284, 3.0, 3.1623]\n"
     ]
    }
   ],
   "source": [
    "# 1에서 10까지 sqrt 값을 갖는 리스트를 만들기\n",
    "\n",
    "import math\n",
    "sqrt_list = []\n",
    "for i in range(1, 11):\n",
    "    sqrt_list.append(round(math.sqrt(i), 4))   # round --> 소수점 n번째자리까지 보이기 (4 ==> 소수점 4번째 자리까지!)\n",
    "print(sqrt_list)"
   ]
  },
  {
   "cell_type": "code",
   "execution_count": null,
   "metadata": {},
   "outputs": [],
   "source": []
  }
 ],
 "metadata": {
  "interpreter": {
   "hash": "41bfb5b538a8ccdcb3e2322710c9405c59874957bcc781cd1f201bc611604366"
  },
  "kernelspec": {
   "display_name": "Python 3.9.7 ('base')",
   "language": "python",
   "name": "python3"
  },
  "language_info": {
   "codemirror_mode": {
    "name": "ipython",
    "version": 3
   },
   "file_extension": ".py",
   "mimetype": "text/x-python",
   "name": "python",
   "nbconvert_exporter": "python",
   "pygments_lexer": "ipython3",
   "version": "3.9.7"
  },
  "orig_nbformat": 4
 },
 "nbformat": 4,
 "nbformat_minor": 2
}
