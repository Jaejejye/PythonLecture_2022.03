{
 "cells": [
  {
   "cell_type": "markdown",
   "metadata": {},
   "source": [
    "# Unit 4. 기본 문법 알아보기"
   ]
  },
  {
   "cell_type": "markdown",
   "metadata": {},
   "source": [
    "### 4.1 세미콜론"
   ]
  },
  {
   "cell_type": "code",
   "execution_count": 17,
   "metadata": {},
   "outputs": [
    {
     "data": {
      "text/plain": [
       "'\\n# h1\\n## h2\\n### h3 \\n...\\n'"
      ]
     },
     "execution_count": 17,
     "metadata": {},
     "output_type": "execute_result"
    }
   ],
   "source": [
    "# 코딩 도장 -> 파이썬 코딩 도장 (unit 4. 기본 문법 알아보기)\n",
    "\n",
    "# Markdown\n",
    "\n",
    "\"\"\"\n",
    "# h1\n",
    "## h2\n",
    "### h3 \n",
    "...\n",
    "\"\"\""
   ]
  },
  {
   "cell_type": "code",
   "execution_count": 11,
   "metadata": {},
   "outputs": [
    {
     "name": "stdout",
     "output_type": "stream",
     "text": [
      "Hello\n"
     ]
    }
   ],
   "source": [
    "print(\"Hello\")"
   ]
  },
  {
   "cell_type": "code",
   "execution_count": 2,
   "metadata": {},
   "outputs": [
    {
     "name": "stdout",
     "output_type": "stream",
     "text": [
      "Hello\n",
      "World\n"
     ]
    }
   ],
   "source": [
    "print(\"Hello\"); print('World')"
   ]
  },
  {
   "cell_type": "markdown",
   "metadata": {},
   "source": [
    "\n",
    "### 4.2 주석(Comment)"
   ]
  },
  {
   "cell_type": "code",
   "execution_count": 3,
   "metadata": {},
   "outputs": [
    {
     "name": "stdout",
     "output_type": "stream",
     "text": [
      "Hello World!\n"
     ]
    }
   ],
   "source": [
    "# 한줄짜리 주석\n",
    "print('Hello World!')   # 문장 뒤에 와도 가능~.~"
   ]
  },
  {
   "cell_type": "code",
   "execution_count": 4,
   "metadata": {},
   "outputs": [],
   "source": [
    "# 블록 주석\n",
    "# 더하기\n",
    "# a = 1 + 2\n",
    "# print('Hello, world!')"
   ]
  },
  {
   "cell_type": "code",
   "execution_count": 6,
   "metadata": {},
   "outputs": [
    {
     "data": {
      "text/plain": [
       "' 더하기      => Alt + Shift + A\\na = 1 + 2       # 여러줄의 스트링(문자열)  \"\"\"\\nprint(\\'Hello, world!\\') '"
      ]
     },
     "execution_count": 6,
     "metadata": {},
     "output_type": "execute_result"
    }
   ],
   "source": [
    "''' 더하기      => Alt + Shift + A\n",
    "a = 1 + 2       # 여러줄의 스트링(문자열)  \"\"\"\n",
    "print('Hello, world!') '''"
   ]
  },
  {
   "cell_type": "code",
   "execution_count": 16,
   "metadata": {},
   "outputs": [
    {
     "data": {
      "text/plain": [
       "'\\n1. 국가 표준\\n    EUC-KR (CP949, ANSI)\\n    MS-OFFICE, 한글\\n    MS-Windows\\n\\n2. 인터넷 표준\\n    utf-8\\n    웹, 데베(DB), 프로그램\\n'"
      ]
     },
     "execution_count": 16,
     "metadata": {},
     "output_type": "execute_result"
    }
   ],
   "source": [
    "# 한글 표기\n",
    "\n",
    "\"\"\"\n",
    "1. 국가 표준\n",
    "    EUC-KR (CP949, ANSI)\n",
    "    MS-OFFICE, 한글\n",
    "    MS-Windows\n",
    "    2 바이트 완성형 (가-힣)\n",
    "\n",
    "2. 인터넷 표준\n",
    "    utf-8\n",
    "    웹, 데베(DB), 프로그램, 파이썬\n",
    "    3 바이트 조합형 (초성 + 중성 + 종성)\n",
    "\"\"\""
   ]
  },
  {
   "cell_type": "code",
   "execution_count": 18,
   "metadata": {},
   "outputs": [
    {
     "data": {
      "text/plain": [
       "'\\n인코딩 (encoding)\\nen + code + ing\\n\\n디코딩 (decoding)\\nde + code + ing\\n'"
      ]
     },
     "execution_count": 18,
     "metadata": {},
     "output_type": "execute_result"
    }
   ],
   "source": [
    "# 인코딩\n",
    "\n",
    "\"\"\"\n",
    "인코딩 (encoding)\n",
    "en + code + ing\n",
    "\n",
    "디코딩 (decoding)\n",
    "de + code + ing\n",
    "\"\"\""
   ]
  },
  {
   "cell_type": "markdown",
   "metadata": {},
   "source": [
    "### 4.3 들여쓰기(Indentation)"
   ]
  },
  {
   "cell_type": "code",
   "execution_count": 19,
   "metadata": {},
   "outputs": [
    {
     "name": "stdout",
     "output_type": "stream",
     "text": [
      "10이 아닙니다.\n"
     ]
    }
   ],
   "source": [
    "a = 5\n",
    "if a == 10:\n",
    "    print(\"10 입니다.\")\n",
    "else:\n",
    "    print(\"10이 아닙니다.\")"
   ]
  },
  {
   "cell_type": "code",
   "execution_count": 22,
   "metadata": {},
   "outputs": [
    {
     "name": "stdout",
     "output_type": "stream",
     "text": [
      "10 입니다.\n",
      "10이 아닙니다.\n"
     ]
    }
   ],
   "source": [
    "a = 10\n",
    "if a == 10:\n",
    "    print(\"10 입니다.\")\n",
    "else:\n",
    "    a = 20\n",
    "print(\"10이 아닙니다.\")     # 엉뚱한 결과"
   ]
  },
  {
   "cell_type": "markdown",
   "metadata": {},
   "source": [
    "### 4.4 코드 블록"
   ]
  },
  {
   "cell_type": "code",
   "execution_count": 23,
   "metadata": {},
   "outputs": [
    {
     "name": "stdout",
     "output_type": "stream",
     "text": [
      "10\n",
      "입니다.\n"
     ]
    }
   ],
   "source": [
    "if a == 10:\n",
    "    print(\"10\")\n",
    "    print(\"입니다.\")"
   ]
  },
  {
   "cell_type": "code",
   "execution_count": 24,
   "metadata": {},
   "outputs": [
    {
     "data": {
      "text/plain": [
       "' if (a == 10) {\\n    print(\"10\")\\n    print(\"입니다.\")\\n} '"
      ]
     },
     "execution_count": 24,
     "metadata": {},
     "output_type": "execute_result"
    }
   ],
   "source": [
    "# 다른 프로그램\n",
    "''' if (a == 10) {\n",
    "    print(\"10\")\n",
    "    print(\"입니다.\")\n",
    "} '''"
   ]
  },
  {
   "cell_type": "markdown",
   "metadata": {},
   "source": [
    "# Unit 5. 숫자 계산"
   ]
  },
  {
   "cell_type": "code",
   "execution_count": 3,
   "metadata": {},
   "outputs": [],
   "source": [
    "import math\n",
    "import matplotlib"
   ]
  },
  {
   "cell_type": "code",
   "execution_count": 2,
   "metadata": {},
   "outputs": [
    {
     "data": {
      "text/plain": [
       "'\\n이진수 0 & 1\\n01000001    64+1=65\\ntype\\n숫자, 문자열\\n\\n정수 : 이진수, 음수표시-2의 보수\\n        32 비트 크기\\n\\n실수 : 지수(exponent) + 기수(mantisa)\\n        3.14\\n'"
      ]
     },
     "execution_count": 2,
     "metadata": {},
     "output_type": "execute_result"
    }
   ],
   "source": [
    "# 이진수 / 정수 / 실수\n",
    "\n",
    "\"\"\"\n",
    "이진수 0 & 1\n",
    "01000001    64+1=65\n",
    "type\n",
    "숫자, 문자열\n",
    "\n",
    "정수 : 이진수, 음수표시-2의 보수\n",
    "        32 비트 크기\n",
    "\n",
    "실수 : 지수(exponent) + 기수(mantisa)\n",
    "        3.14\n",
    "\"\"\""
   ]
  },
  {
   "cell_type": "markdown",
   "metadata": {},
   "source": [
    "\n",
    "### 5.1 정수"
   ]
  },
  {
   "cell_type": "code",
   "execution_count": 4,
   "metadata": {},
   "outputs": [
    {
     "data": {
      "text/plain": [
       "2.5"
      ]
     },
     "execution_count": 4,
     "metadata": {},
     "output_type": "execute_result"
    }
   ],
   "source": [
    "# +, -, * : 더하기, 빼기, 곱하기 동일\n",
    "# /, //, % : 나누기(실수), 몫, 나머지\n",
    "\n",
    "5/2"
   ]
  },
  {
   "cell_type": "code",
   "execution_count": 5,
   "metadata": {},
   "outputs": [
    {
     "data": {
      "text/plain": [
       "(2, 1)"
      ]
     },
     "execution_count": 5,
     "metadata": {},
     "output_type": "execute_result"
    }
   ],
   "source": [
    "# 몫과 나머지\n",
    "5 // 2, 5 % 2   # 나머지 연산(modulo)"
   ]
  },
  {
   "cell_type": "code",
   "execution_count": 6,
   "metadata": {},
   "outputs": [
    {
     "data": {
      "text/plain": [
       "1024"
      ]
     },
     "execution_count": 6,
     "metadata": {},
     "output_type": "execute_result"
    }
   ],
   "source": [
    "# 거듭 제곱\n",
    "2 ** 10"
   ]
  },
  {
   "cell_type": "code",
   "execution_count": 8,
   "metadata": {},
   "outputs": [
    {
     "data": {
      "text/plain": [
       "1024.0"
      ]
     },
     "execution_count": 8,
     "metadata": {},
     "output_type": "execute_result"
    }
   ],
   "source": [
    "math.pow(2, 10) # 2 ** 10, 결과는 실수 (2의 10승)"
   ]
  },
  {
   "cell_type": "code",
   "execution_count": 12,
   "metadata": {},
   "outputs": [
    {
     "data": {
      "text/plain": [
       "(5, 5, 6)"
      ]
     },
     "execution_count": 12,
     "metadata": {},
     "output_type": "execute_result"
    }
   ],
   "source": [
    "# 값을 정수로 변환(실수--> 정수)\n",
    "int(5.5), math.floor(5.5), math.ceil(5.5)   # floor-> 바닥 / ceil-> 천장"
   ]
  },
  {
   "cell_type": "code",
   "execution_count": null,
   "metadata": {},
   "outputs": [],
   "source": []
  }
 ],
 "metadata": {
  "interpreter": {
   "hash": "41bfb5b538a8ccdcb3e2322710c9405c59874957bcc781cd1f201bc611604366"
  },
  "kernelspec": {
   "display_name": "Python 3.9.7 ('base')",
   "language": "python",
   "name": "python3"
  },
  "language_info": {
   "codemirror_mode": {
    "name": "ipython",
    "version": 3
   },
   "file_extension": ".py",
   "mimetype": "text/x-python",
   "name": "python",
   "nbconvert_exporter": "python",
   "pygments_lexer": "ipython3",
   "version": "3.9.7"
  },
  "orig_nbformat": 4
 },
 "nbformat": 4,
 "nbformat_minor": 2
}
