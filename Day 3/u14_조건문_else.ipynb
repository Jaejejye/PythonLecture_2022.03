{
 "cells": [
  {
   "cell_type": "markdown",
   "metadata": {},
   "source": [
    "# Unit 14. if-else 조건문"
   ]
  },
  {
   "cell_type": "markdown",
   "metadata": {},
   "source": [
    "### 14.1 else"
   ]
  },
  {
   "cell_type": "code",
   "execution_count": 18,
   "metadata": {},
   "outputs": [],
   "source": [
    "import random"
   ]
  },
  {
   "cell_type": "code",
   "execution_count": 19,
   "metadata": {},
   "outputs": [
    {
     "name": "stdout",
     "output_type": "stream",
     "text": [
      "큰 수\n",
      "4\n"
     ]
    }
   ],
   "source": [
    "x = random.randint(1, 6)\n",
    "if x >= 4:\n",
    "    print('큰 수')\n",
    "else:\n",
    "    print('작은 수')\n",
    "print(x)"
   ]
  },
  {
   "cell_type": "code",
   "execution_count": 20,
   "metadata": {},
   "outputs": [
    {
     "name": "stdout",
     "output_type": "stream",
     "text": [
      "짝수\n",
      "6\n"
     ]
    }
   ],
   "source": [
    "x = random.randint(1, 6)\n",
    "if x % 2 == 0:\n",
    "    print('짝수')\n",
    "else:\n",
    "    print('홀수')\n",
    "print(x)"
   ]
  },
  {
   "cell_type": "code",
   "execution_count": 21,
   "metadata": {},
   "outputs": [
    {
     "name": "stdout",
     "output_type": "stream",
     "text": [
      "1 odd number\n"
     ]
    }
   ],
   "source": [
    "x = random.randint(1, 6)\n",
    "if x % 2 == 0:\n",
    "    result = 'even number'\n",
    "else:\n",
    "    result = 'odd number'\n",
    "print(x, result)"
   ]
  },
  {
   "cell_type": "markdown",
   "metadata": {},
   "source": [
    "- 조건부 표현식(3항 연산자)"
   ]
  },
  {
   "cell_type": "code",
   "execution_count": 22,
   "metadata": {},
   "outputs": [
    {
     "name": "stdout",
     "output_type": "stream",
     "text": [
      "1 홀수\n"
     ]
    }
   ],
   "source": [
    "# Java, JS에서는  result = x % 2 == 0 ? \"even\" : \"odd\" ;\n",
    "result = '짝수' if x % 2 == 0 else '홀수'\n",
    "print(x, result)"
   ]
  },
  {
   "cell_type": "markdown",
   "metadata": {},
   "source": [
    "### 14.2 else와 들여쓰기"
   ]
  },
  {
   "cell_type": "code",
   "execution_count": 23,
   "metadata": {},
   "outputs": [
    {
     "name": "stdout",
     "output_type": "stream",
     "text": [
      "10입니다.\n",
      "10이 아닙니다.\n"
     ]
    }
   ],
   "source": [
    "x = 10\n",
    "if x == 10:\n",
    "    print('10입니다.') \n",
    "else:\n",
    "    print('x에 들어있는 숫자는')\n",
    "print('10이 아닙니다.')     # 들여쓰기 주!의! !!!"
   ]
  },
  {
   "cell_type": "code",
   "execution_count": 24,
   "metadata": {},
   "outputs": [
    {
     "name": "stdout",
     "output_type": "stream",
     "text": [
      "10입니다.\n"
     ]
    }
   ],
   "source": [
    "if x == 10:\n",
    "    print('10입니다.') \n",
    "else:\n",
    "    print('x에 들어있는 숫자는')\n",
    "    print('10이 아닙니다.')"
   ]
  },
  {
   "cell_type": "markdown",
   "metadata": {},
   "source": [
    "### 14.3 동작 방식"
   ]
  },
  {
   "cell_type": "code",
   "execution_count": 25,
   "metadata": {},
   "outputs": [
    {
     "name": "stdout",
     "output_type": "stream",
     "text": [
      "0, 0.0, \"\", False, None 입니다.\n"
     ]
    }
   ],
   "source": [
    "x = 0.0\n",
    "if x:\n",
    "    print(x)\n",
    "else:\n",
    "    print('0, 0.0, \"\", False, None 입니다.')    # 해당 내용 => False로 인식 ! ==> None으로 출력"
   ]
  },
  {
   "cell_type": "markdown",
   "metadata": {},
   "source": [
    "# 14.4 여러개의 조건식"
   ]
  },
  {
   "cell_type": "code",
   "execution_count": 27,
   "metadata": {},
   "outputs": [
    {
     "name": "stdout",
     "output_type": "stream",
     "text": [
      "30 FizzBuzz\n"
     ]
    }
   ],
   "source": [
    "# 3과 5의  공배수면 FizzBuzz를 출력\n",
    "# 위의 경우가 아니면 숫자값을 출력\n",
    "\n",
    "x = 30\n",
    "if x % 3 == 0 and x % 5 == 0:\n",
    "    print(x, 'FizzBuzz')\n",
    "else:\n",
    "    print(x)"
   ]
  },
  {
   "cell_type": "code",
   "execution_count": 28,
   "metadata": {},
   "outputs": [
    {
     "name": "stdout",
     "output_type": "stream",
     "text": [
      "10이상이고 20이하\n"
     ]
    }
   ],
   "source": [
    "x = 14\n",
    "if x >= 10 and x <= 20:\n",
    "    print('10이상이고 20이하')\n",
    "else:\n",
    "    print(x)"
   ]
  },
  {
   "cell_type": "code",
   "execution_count": 29,
   "metadata": {},
   "outputs": [
    {
     "name": "stdout",
     "output_type": "stream",
     "text": [
      "10이상이고 20이하\n"
     ]
    }
   ],
   "source": [
    "if 10 <= x <= 20:\n",
    "    print('10이상이고 20이하')\n",
    "else:\n",
    "    print(x)"
   ]
  },
  {
   "cell_type": "markdown",
   "metadata": {},
   "source": [
    "##### 연습문제\n",
    "<pre>\n",
    "4로 나누어지면 윤년\n",
    "100으로 나누어지면 평년\n",
    "400으로 나누어지면 윤년\n",
    "그외 평년\n",
    "</pre>"
   ]
  },
  {
   "cell_type": "code",
   "execution_count": 30,
   "metadata": {},
   "outputs": [
    {
     "name": "stdout",
     "output_type": "stream",
     "text": [
      "2004 윤년\n"
     ]
    }
   ],
   "source": [
    "# 테스트 케이스: 1900, 1901, 2000, 2004\n",
    "x = 2004\n",
    "if x % 4 == 0:\n",
    "    if x % 100 == 0:\n",
    "        if x % 400 == 0:\n",
    "            print(x, '윤년')\n",
    "        else:\n",
    "            print(x, '평년')\n",
    "    else:\n",
    "        print(x, '윤년')\n",
    "else:\n",
    "    print(x, '평년')"
   ]
  },
  {
   "cell_type": "code",
   "execution_count": 31,
   "metadata": {},
   "outputs": [
    {
     "name": "stdout",
     "output_type": "stream",
     "text": [
      "2004 윤년\n"
     ]
    }
   ],
   "source": [
    "# Code Refactoring\n",
    "x = 2004\n",
    "if x % 4 == 0:\n",
    "    if x % 100 == 0 and x % 400 != 0:\n",
    "        print(x, '평년')\n",
    "    else:\n",
    "        print(x, '윤년')\n",
    "else:\n",
    "    print(x, '평년')"
   ]
  },
  {
   "cell_type": "code",
   "execution_count": 32,
   "metadata": {},
   "outputs": [
    {
     "name": "stdout",
     "output_type": "stream",
     "text": [
      "2004 윤년\n"
     ]
    }
   ],
   "source": [
    "x = 2004\n",
    "if x % 4 == 0 and not (x % 100 == 0 and x % 400 != 0):\n",
    "    print(x, '윤년')\n",
    "else:\n",
    "    print(x, '평년')"
   ]
  },
  {
   "cell_type": "code",
   "execution_count": 33,
   "metadata": {},
   "outputs": [
    {
     "name": "stdout",
     "output_type": "stream",
     "text": [
      "1901 평년\n"
     ]
    }
   ],
   "source": [
    "# not (A and B)  ==> not A or not B\n",
    "x = 1901\n",
    "if x % 4 == 0 and (x % 100 != 0 or x % 400 == 0):\n",
    "    print(x, '윤년')\n",
    "else:\n",
    "    print(x, '평년')"
   ]
  },
  {
   "cell_type": "code",
   "execution_count": null,
   "metadata": {},
   "outputs": [],
   "source": []
  }
 ],
 "metadata": {
  "interpreter": {
   "hash": "41bfb5b538a8ccdcb3e2322710c9405c59874957bcc781cd1f201bc611604366"
  },
  "kernelspec": {
   "display_name": "Python 3.9.7 ('base')",
   "language": "python",
   "name": "python3"
  },
  "language_info": {
   "codemirror_mode": {
    "name": "ipython",
    "version": 3
   },
   "file_extension": ".py",
   "mimetype": "text/x-python",
   "name": "python",
   "nbconvert_exporter": "python",
   "pygments_lexer": "ipython3",
   "version": "3.9.7"
  },
  "orig_nbformat": 4
 },
 "nbformat": 4,
 "nbformat_minor": 2
}
