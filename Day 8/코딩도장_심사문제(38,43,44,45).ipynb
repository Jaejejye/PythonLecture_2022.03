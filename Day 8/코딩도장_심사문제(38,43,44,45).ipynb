{
 "cells": [
  {
   "cell_type": "markdown",
   "metadata": {},
   "source": [
    "## 코딩도장 심사문제\n",
    "### 38.7"
   ]
  },
  {
   "cell_type": "code",
   "execution_count": 2,
   "metadata": {},
   "outputs": [
    {
     "name": "stdout",
     "output_type": "stream",
     "text": [
      "회문이 아닙니다.\n"
     ]
    }
   ],
   "source": [
    "class NotPalindromeError(Exception):\n",
    "    def __init__(self):\n",
    "        super().__init__('회문이 아닙니다.')\n",
    "\n",
    "def palindrome(word):\n",
    "    if word!=word[::-1]:\n",
    "        raise(NotPalindromeError)\n",
    "    print(word)\n",
    "\n",
    "try:\n",
    "    word = input()\n",
    "    palindrome(word)\n",
    "except NotPalindromeError as e:\n",
    "    print(e)"
   ]
  },
  {
   "cell_type": "markdown",
   "metadata": {},
   "source": [
    "### 43.6"
   ]
  },
  {
   "cell_type": "code",
   "execution_count": 5,
   "metadata": {},
   "outputs": [
    {
     "name": "stdout",
     "output_type": "stream",
     "text": [
      "False\n"
     ]
    }
   ],
   "source": [
    "import re\n",
    "d = re.compile(\"^(https?://)[A-Za-z0-9-]+\\.[A-Za-z0-9-.]+/[A-Za-z0-9-_/.?=]*\")\n",
    "print(d.match(input()) != None)"
   ]
  },
  {
   "cell_type": "code",
   "execution_count": null,
   "metadata": {},
   "outputs": [],
   "source": [
    "# \\. : .를 넣어서 도메인.최상위도메인 형식인지 판단, '.'은 정규표현식에 사용하는 특수 문자이므로 앞에 반드시 \\를 붙여야 함!\n",
    "# [a-zA-Z0-9-_/.?=]*: 도메인 이하 경로는 영문 대소문자, 숫자, -, , ., ?, =을 사용한다고 했으므로 [a-zA-Z0-9-/.?=]*와 같이 만들어주며, 특히 하위 경로가 더 나올 수 있으므로 범위 안에 /를 넣어야 함!\n",
    "# 참고 출처: https://velog.io/@cha-suyeon/Python-%ED%8C%8C%EC%9D%B4%EC%8D%AC-%EC%BD%94%EB%94%A9-%EB%8F%84%EC%9E%A5-43.6-%EC%8B%AC%EC%82%AC%EB%AC%B8%EC%A0%9C-URL-%EA%B2%80%EC%82%AC%ED%95%98%EA%B8%B0"
   ]
  },
  {
   "cell_type": "code",
   "execution_count": 1,
   "metadata": {},
   "outputs": [],
   "source": [
    "# 이메일 정규 표현식\n",
    "# '^[a-zA-Z0-9+-_.]+@[a-zA-Z0-9-]+\\.[a-zA-Z0-9-.]+$'"
   ]
  },
  {
   "cell_type": "markdown",
   "metadata": {},
   "source": [
    "### 44.6"
   ]
  },
  {
   "cell_type": "code",
   "execution_count": 6,
   "metadata": {},
   "outputs": [
    {
     "name": "stdout",
     "output_type": "stream",
     "text": [
      "314.1592653589793\n"
     ]
    }
   ],
   "source": [
    "import math\n",
    "r = float(input())\n",
    "print(r*r*math.pi)"
   ]
  },
  {
   "cell_type": "markdown",
   "metadata": {},
   "source": [
    "### 45.7\n",
    "    ==> 패키지 만들어 푸는 문제 ... !"
   ]
  },
  {
   "cell_type": "code",
   "execution_count": null,
   "metadata": {},
   "outputs": [],
   "source": [
    "# 해당 문제 -> judge_package.py 내용만 적습니다.\n",
    "from calcpkg import operation, geometry\n",
    "r = int(input())\n",
    "print(operation.squareroot(r))\n",
    "print(geometry.circle_area(r))"
   ]
  },
  {
   "cell_type": "code",
   "execution_count": null,
   "metadata": {},
   "outputs": [],
   "source": []
  }
 ],
 "metadata": {
  "interpreter": {
   "hash": "41bfb5b538a8ccdcb3e2322710c9405c59874957bcc781cd1f201bc611604366"
  },
  "kernelspec": {
   "display_name": "Python 3.9.7 ('base')",
   "language": "python",
   "name": "python3"
  },
  "language_info": {
   "codemirror_mode": {
    "name": "ipython",
    "version": 3
   },
   "file_extension": ".py",
   "mimetype": "text/x-python",
   "name": "python",
   "nbconvert_exporter": "python",
   "pygments_lexer": "ipython3",
   "version": "3.9.7"
  },
  "orig_nbformat": 4
 },
 "nbformat": 4,
 "nbformat_minor": 2
}
